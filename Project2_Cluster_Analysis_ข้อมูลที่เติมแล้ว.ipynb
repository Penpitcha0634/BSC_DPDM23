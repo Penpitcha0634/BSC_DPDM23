{
  "nbformat": 4,
  "nbformat_minor": 0,
  "metadata": {
    "colab": {
      "provenance": [],
      "authorship_tag": "ABX9TyN0vh7cfh5HOJilkDROT075",
      "include_colab_link": true
    },
    "kernelspec": {
      "name": "python3",
      "display_name": "Python 3"
    },
    "language_info": {
      "name": "python"
    }
  },
  "cells": [
    {
      "cell_type": "markdown",
      "metadata": {
        "id": "view-in-github",
        "colab_type": "text"
      },
      "source": [
        "<a href=\"https://colab.research.google.com/github/Penpitcha0634/BSC_DPDM23/blob/main/Project2_Cluster_Analysis_%E0%B8%82%E0%B9%89%E0%B8%AD%E0%B8%A1%E0%B8%B9%E0%B8%A5%E0%B8%97%E0%B8%B5%E0%B9%88%E0%B9%80%E0%B8%95%E0%B8%B4%E0%B8%A1%E0%B9%81%E0%B8%A5%E0%B9%89%E0%B8%A7.ipynb\" target=\"_parent\"><img src=\"https://colab.research.google.com/assets/colab-badge.svg\" alt=\"Open In Colab\"/></a>"
      ]
    },
    {
      "cell_type": "code",
      "execution_count": 1,
      "metadata": {
        "id": "CUOrnTphKAAH"
      },
      "outputs": [],
      "source": [
        "from sklearn.cluster import AgglomerativeClustering\n",
        "from scipy.cluster.hierarchy import linkage, fcluster, dendrogram\n",
        "from sklearn.metrics import silhouette_samples, silhouette_score\n",
        "import matplotlib.pyplot as plt\n",
        "import numpy as np"
      ]
    },
    {
      "cell_type": "code",
      "source": [
        "import pandas as pd"
      ],
      "metadata": {
        "id": "9qCk3qJAKIrT"
      },
      "execution_count": 2,
      "outputs": []
    },
    {
      "cell_type": "code",
      "source": [
        "from google.colab import drive\n",
        "drive.mount('/content/drive')"
      ],
      "metadata": {
        "colab": {
          "base_uri": "https://localhost:8080/"
        },
        "id": "p15QOJ9iKOvq",
        "outputId": "c5561e7a-17b8-438b-e8d8-ea8fbc1abace"
      },
      "execution_count": 3,
      "outputs": [
        {
          "output_type": "stream",
          "name": "stdout",
          "text": [
            "Mounted at /content/drive\n"
          ]
        }
      ]
    },
    {
      "cell_type": "code",
      "source": [
        "file_path = '/content/drive/MyDrive/seminar & project /Project/project2/project2 มลพิษทางอากาศและปัจจัยที่ส่งผลต่อมลพิษทางอากาศ เติมแล้ว.xlsx'# ระบุเส้นทางของไฟล์ Excel\n",
        "sheet_name = 'รวมตัวแปรที่เติมแล้ว'# ระบุชื่อ Sheet ที่ต้องการ\n",
        "#อ่านข้อมูลไฟล์จาก Excel\n",
        "Air_pollution = pd.read_excel(file_path, sheet_name=sheet_name)\n",
        "# แสดงข้อมูล\n",
        "print(Air_pollution.head())"
      ],
      "metadata": {
        "colab": {
          "base_uri": "https://localhost:8080/"
        },
        "id": "7EopE5mSKRTk",
        "outputId": "3d68e18f-d401-4bf6-ed39-aa3a5e7eda08"
      },
      "execution_count": 4,
      "outputs": [
        {
          "output_type": "stream",
          "name": "stdout",
          "text": [
            "       จังหวัด      ZSO2          ZNO2           ZCO           ZO3     ZPM10  \\\n",
            "0       กระบี่ -0.689794 -1.003260e+00 -2.300000e-07 -2.689200e-01 -3.836360   \n",
            "1    กาญจนบุรี -0.921480 -7.769000e-01 -1.092340e+00  1.992160e+00  0.644520   \n",
            "2    กาฬสินธุ์ -0.000003 -2.100000e-07 -2.300000e-07 -3.800000e-07  0.000001   \n",
            "3  \\tกำแพงเพชร -0.216350 -3.242000e-01  9.964000e-02 -7.982100e-01 -1.104120   \n",
            "4    \\tขอนแก่น  3.641037  1.486574e+00  1.069260e-01 -5.802600e-01  1.409550   \n",
            "\n",
            "         ZPM2.5  Zจำนวนโรงงาน  Zปริมาณกากของเสีย  Zจำนวนครัวเรือน  ...  \\\n",
            "0 -1.732160e+00      -0.54747           -0.53700         -0.58704  ...   \n",
            "1 -8.953200e-01       0.06925            1.20726          0.14027  ...   \n",
            "2 -9.300000e-18      -0.03600            2.06492         -0.03049  ...   \n",
            "3 -1.352970e+00      -0.37718           -0.31658         -0.20052  ...   \n",
            "4  2.079380e+00       0.86832           -0.19768          1.56115  ...   \n",
            "\n",
            "    Zฤดูฝน  Zฤดูหนาว  Zปริมาณการใช้ไฟฟ้าครัว  Zปริมาณการใช้ไฟฟ้ากิจก  \\\n",
            "0 -0.32670   0.82196                -0.37595                -0.39827   \n",
            "1  0.27245   0.41622                 0.35815                 0.00268   \n",
            "2  0.18686  -0.53051                -0.28504                -0.41086   \n",
            "3  0.35805   0.21335                -0.25300                -0.31451   \n",
            "4  0.18686  -0.46289                 1.22211                 0.10635   \n",
            "\n",
            "   Zปริมาณน้ำมันที่ใช้กับ  Zจำนวนรถตามกฎหมายรถยนต  Zจำนวนรถตามกฎหมายขนส่ง  \\\n",
            "0                -0.42795                -0.45687                -0.63355   \n",
            "1                 0.00492                 0.02733                 0.35773   \n",
            "2                -0.50246                -0.30556                -0.16129   \n",
            "3                -0.46861                -0.10306                 0.33205   \n",
            "4                 1.06988                 1.66846                 1.18920   \n",
            "\n",
            "   Zปริมาณขยะมูลฝอยที่เกิ  Zปริมาณขยะมูลฝอยตกค้าง  Zปริมาณพื้นที่สีเขียว  \n",
            "0                -0.44063                -0.30986               -0.42924  \n",
            "1                -0.16803                -0.14528                0.44250  \n",
            "2                -0.03678                -0.20772               -0.37602  \n",
            "3                -0.40866                -0.43292               -0.42829  \n",
            "4                 0.99473                 1.49159                1.93157  \n",
            "\n",
            "[5 rows x 22 columns]\n"
          ]
        }
      ]
    },
    {
      "cell_type": "code",
      "source": [
        "# ตรวจสอบชื่อคอลัมน์\n",
        "print(Air_pollution.columns)"
      ],
      "metadata": {
        "colab": {
          "base_uri": "https://localhost:8080/"
        },
        "id": "B9aNNtJQKVBR",
        "outputId": "8d126a51-efb8-4690-f955-81f695dd9075"
      },
      "execution_count": 5,
      "outputs": [
        {
          "output_type": "stream",
          "name": "stdout",
          "text": [
            "Index(['จังหวัด', 'ZSO2', 'ZNO2', 'ZCO', 'ZO3', 'ZPM10', 'ZPM2.5',\n",
            "       'Zจำนวนโรงงาน', 'Zปริมาณกากของเสีย', 'Zจำนวนครัวเรือน', 'Zอุณหภูมิ',\n",
            "       'Zฤดูร้อน', 'Zฤดูฝน', 'Zฤดูหนาว', 'Zปริมาณการใช้ไฟฟ้าครัว',\n",
            "       'Zปริมาณการใช้ไฟฟ้ากิจก', 'Zปริมาณน้ำมันที่ใช้กับ',\n",
            "       'Zจำนวนรถตามกฎหมายรถยนต', 'Zจำนวนรถตามกฎหมายขนส่ง',\n",
            "       'Zปริมาณขยะมูลฝอยที่เกิ', 'Zปริมาณขยะมูลฝอยตกค้าง',\n",
            "       'Zปริมาณพื้นที่สีเขียว'],\n",
            "      dtype='object')\n"
          ]
        }
      ]
    },
    {
      "cell_type": "code",
      "source": [
        "X = Air_pollution[['ZSO2', 'ZNO2', 'ZCO', 'ZO3', 'ZPM10', 'ZPM2.5',\n",
        "       'Zจำนวนโรงงาน', 'Zปริมาณกากของเสีย', 'Zจำนวนครัวเรือน', 'Zอุณหภูมิ',\n",
        "       'Zฤดูร้อน', 'Zฤดูฝน', 'Zฤดูหนาว', 'Zปริมาณการใช้ไฟฟ้าครัว',\n",
        "       'Zปริมาณการใช้ไฟฟ้ากิจก', 'Zปริมาณน้ำมันที่ใช้กับ',\n",
        "       'Zจำนวนรถตามกฎหมายรถยนต', 'Zจำนวนรถตามกฎหมายขนส่ง',\n",
        "       'Zปริมาณขยะมูลฝอยที่เกิ', 'Zปริมาณขยะมูลฝอยตกค้าง',\n",
        "       'Zปริมาณพื้นที่สีเขียว']].values"
      ],
      "metadata": {
        "id": "rcx1M31qLOpY"
      },
      "execution_count": 6,
      "outputs": []
    },
    {
      "cell_type": "code",
      "source": [
        "# การจัดกลุ่มแบบลำดับชั้น (Hierarchical Clustering)\n",
        "# สร้าง linkage matrix\n",
        "linkage_matrix = linkage(X, method='single')  # ใช้ Single Linkage\n"
      ],
      "metadata": {
        "id": "0bSH6D6KLb95"
      },
      "execution_count": 7,
      "outputs": []
    },
    {
      "cell_type": "code",
      "source": [
        "# กำหนดจำนวนกลุ่ม (สมมุติ 2 กลุ่ม)\n",
        "n_clusters = 2\n",
        "clusters = fcluster(linkage_matrix, n_clusters, criterion='maxclust')"
      ],
      "metadata": {
        "id": "EHUMvRhqLoCB"
      },
      "execution_count": 8,
      "outputs": []
    },
    {
      "cell_type": "code",
      "source": [
        "# คำนวณค่า Silhouette\n",
        "silhouette_vals = silhouette_samples(X, clusters)\n",
        "silhouette_avg = silhouette_score(X, clusters)"
      ],
      "metadata": {
        "id": "K15_XycALv7g"
      },
      "execution_count": 9,
      "outputs": []
    },
    {
      "cell_type": "code",
      "source": [
        "# สร้างกราฟ Silhouette\n",
        "plt.figure(figsize=(8, 6))\n",
        "y_lower = 10\n",
        "for i in range(1, n_clusters + 1):\n",
        "    cluster_silhouette_vals = silhouette_vals[clusters == i]\n",
        "    cluster_silhouette_vals.sort()\n",
        "    y_upper = y_lower + len(cluster_silhouette_vals)\n",
        "    plt.fill_betweenx(np.arange(y_lower, y_upper), 0, cluster_silhouette_vals, alpha=0.7)\n",
        "    plt.text(-0.05, y_lower + 0.5 * len(cluster_silhouette_vals), f\"Cluster {i}\")\n",
        "    y_lower = y_upper + 10"
      ],
      "metadata": {
        "colab": {
          "base_uri": "https://localhost:8080/",
          "height": 522
        },
        "id": "GyUhxFMfL3bZ",
        "outputId": "15cf77f8-0d2c-4ce3-b333-1002c2a5d161"
      },
      "execution_count": 10,
      "outputs": [
        {
          "output_type": "display_data",
          "data": {
            "text/plain": [
              "<Figure size 800x600 with 1 Axes>"
            ],
            "image/png": "[encoded data removed]"
          },
          "metadata": {}
        }
      ]
    },
    {
      "cell_type": "code",
      "source": [
        "# เส้นค่าเฉลี่ย Silhouette\n",
        "plt.axvline(silhouette_avg, color=\"red\", linestyle=\"--\", label=f\"Average Silhouette: {silhouette_avg:.2f}\")\n",
        "plt.title(\"Silhouette Plot for Hierarchical Clustering\")\n",
        "plt.xlabel(\"Silhouette Coefficient\")\n",
        "plt.ylabel(\"Cluster\")\n",
        "plt.legend()\n",
        "plt.tight_layout()\n",
        "plt.show()"
      ],
      "metadata": {
        "colab": {
          "base_uri": "https://localhost:8080/",
          "height": 487
        },
        "id": "ZdaxLQMrL4S3",
        "outputId": "83a12a74-a27c-4961-cff7-6c41b266513f"
      },
      "execution_count": 11,
      "outputs": [
        {
          "output_type": "display_data",
          "data": {
            "text/plain": [
              "<Figure size 640x480 with 1 Axes>"
            ],
            "image/png": "[encoded data removed]"
          },
          "metadata": {}
        }
      ]
    }
  ]
}