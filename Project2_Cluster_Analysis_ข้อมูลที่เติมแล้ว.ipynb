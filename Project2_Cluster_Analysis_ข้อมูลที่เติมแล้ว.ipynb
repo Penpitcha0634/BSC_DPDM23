{
  "nbformat": 4,
  "nbformat_minor": 0,
  "metadata": {
    "colab": {
      "provenance": [],
      "authorship_tag": "ABX9TyOSBworrZ3QiEEnvGyVyMXv",
      "include_colab_link": true
    },
    "kernelspec": {
      "name": "python3",
      "display_name": "Python 3"
    },
    "language_info": {
      "name": "python"
    }
  },
  "cells": [
    {
      "cell_type": "markdown",
      "metadata": {
        "id": "view-in-github",
        "colab_type": "text"
      },
      "source": [
        "<a href=\"https://colab.research.google.com/github/Penpitcha0634/BSC_DPDM23/blob/main/Project2_Cluster_Analysis_%E0%B8%82%E0%B9%89%E0%B8%AD%E0%B8%A1%E0%B8%B9%E0%B8%A5%E0%B8%97%E0%B8%B5%E0%B9%88%E0%B9%80%E0%B8%95%E0%B8%B4%E0%B8%A1%E0%B9%81%E0%B8%A5%E0%B9%89%E0%B8%A7.ipynb\" target=\"_parent\"><img src=\"https://colab.research.google.com/assets/colab-badge.svg\" alt=\"Open In Colab\"/></a>"
      ]
    },
    {
      "cell_type": "code",
      "execution_count": 1,
      "metadata": {
        "id": "CUOrnTphKAAH"
      },
      "outputs": [],
      "source": [
        "from sklearn.cluster import AgglomerativeClustering\n",
        "from scipy.cluster.hierarchy import linkage, fcluster, dendrogram\n",
        "from sklearn.metrics import silhouette_samples, silhouette_score\n",
        "import matplotlib.pyplot as plt\n",
        "import numpy as np"
      ]
    },
    {
      "cell_type": "code",
      "source": [
        "import pandas as pd"
      ],
      "metadata": {
        "id": "9qCk3qJAKIrT"
      },
      "execution_count": 2,
      "outputs": []
    },
    {
      "cell_type": "code",
      "source": [
        "from google.colab import drive\n",
        "drive.mount('/content/drive')"
      ],
      "metadata": {
        "colab": {
          "base_uri": "https://localhost:8080/"
        },
        "id": "p15QOJ9iKOvq",
        "outputId": "31f36db9-6f65-4e0b-fc99-2a5d3a837ca2"
      },
      "execution_count": 3,
      "outputs": [
        {
          "output_type": "stream",
          "name": "stdout",
          "text": [
            "Mounted at /content/drive\n"
          ]
        }
      ]
    },
    {
      "cell_type": "code",
      "source": [
        "file_path = '/content/drive/MyDrive/seminar & project /Project/project2/project2 มลพิษทางอากาศและปัจจัยที่ส่งผลต่อมลพิษทางอากาศ เติมแล้ว.xlsx'# ระบุเส้นทางของไฟล์ Excel\n",
        "sheet_name = 'รวมตัวแปรที่เติมแล้ว'# ระบุชื่อ Sheet ที่ต้องการ\n",
        "#อ่านข้อมูลไฟล์จาก Excel\n",
        "Air_pollution = pd.read_excel(file_path, sheet_name=sheet_name)\n",
        "# แสดงข้อมูล\n",
        "print(Air_pollution.head())"
      ],
      "metadata": {
        "colab": {
          "base_uri": "https://localhost:8080/"
        },
        "id": "7EopE5mSKRTk",
        "outputId": "806099e0-929a-427b-cad3-7f4bf75fe0a4"
      },
      "execution_count": 8,
      "outputs": [
        {
          "output_type": "stream",
          "name": "stdout",
          "text": [
            "       จังหวัด      ZSO2          ZNO2           ZCO           ZO3     ZPM10  \\\n",
            "0       กระบี่ -0.689794 -1.003260e+00 -2.300000e-07 -2.689200e-01 -3.836360   \n",
            "1    กาญจนบุรี -0.921480 -7.769000e-01 -1.092340e+00  1.992160e+00  0.644520   \n",
            "2    กาฬสินธุ์ -0.000003 -2.100000e-07 -2.300000e-07 -3.800000e-07  0.000001   \n",
            "3  \\tกำแพงเพชร -0.216350 -3.242000e-01  9.964000e-02 -7.982100e-01 -1.104120   \n",
            "4    \\tขอนแก่น  3.641037  1.486574e+00  1.069260e-01 -5.802600e-01  1.409550   \n",
            "\n",
            "         ZPM2.5  Zจำนวนโรงงาน  Zปริมาณกากของเสีย  Zจำนวนครัวเรือน  ...  \\\n",
            "0 -1.732160e+00      -0.54747           -0.53700         -0.58704  ...   \n",
            "1 -8.953200e-01       0.06925            1.20726          0.14027  ...   \n",
            "2 -9.300000e-18      -0.03600            2.06492         -0.03049  ...   \n",
            "3 -1.352970e+00      -0.37718           -0.31658         -0.20052  ...   \n",
            "4  2.079380e+00       0.86832           -0.19768          1.56115  ...   \n",
            "\n",
            "    Zฤดูฝน  Zฤดูหนาว  Zปริมาณการใช้ไฟฟ้าครัว  Zปริมาณการใช้ไฟฟ้ากิจก  \\\n",
            "0 -0.32670   0.82196                -0.37595                -0.39827   \n",
            "1  0.27245   0.41622                 0.35815                 0.00268   \n",
            "2  0.18686  -0.53051                -0.28504                -0.41086   \n",
            "3  0.35805   0.21335                -0.25300                -0.31451   \n",
            "4  0.18686  -0.46289                 1.22211                 0.10635   \n",
            "\n",
            "   Zปริมาณน้ำมันที่ใช้กับ  Zจำนวนรถตามกฎหมายรถยนต  Zจำนวนรถตามกฎหมายขนส่ง  \\\n",
            "0                -0.42795                -0.45687                -0.63355   \n",
            "1                 0.00492                 0.02733                 0.35773   \n",
            "2                -0.50246                -0.30556                -0.16129   \n",
            "3                -0.46861                -0.10306                 0.33205   \n",
            "4                 1.06988                 1.66846                 1.18920   \n",
            "\n",
            "   Zปริมาณขยะมูลฝอยที่เกิ  Zปริมาณขยะมูลฝอยตกค้าง  Zปริมาณพื้นที่สีเขียว  \n",
            "0                -0.44063                -0.30986               -0.42924  \n",
            "1                -0.16803                -0.14528                0.44250  \n",
            "2                -0.03678                -0.20772               -0.37602  \n",
            "3                -0.40866                -0.43292               -0.42829  \n",
            "4                 0.99473                 1.49159                1.93157  \n",
            "\n",
            "[5 rows x 22 columns]\n"
          ]
        }
      ]
    },
    {
      "cell_type": "code",
      "source": [
        "# ลบคอลัมน์ที่ไม่ใช่ตัวเลข (ถ้ามี)\n",
        "data_numeric = Air_pollution.select_dtypes(include=['number']).dropna()"
      ],
      "metadata": {
        "id": "h6hJhMR7l4Rt"
      },
      "execution_count": 10,
      "outputs": []
    },
    {
      "cell_type": "code",
      "source": [
        "data_numeric.head(76)"
      ],
      "metadata": {
        "colab": {
          "base_uri": "https://localhost:8080/",
          "height": 617
        },
        "id": "iaErIio2mIZ9",
        "outputId": "a6e3fafd-026a-4adc-ece8-045ea8ed4f1c"
      },
      "execution_count": 15,
      "outputs": [
        {
          "output_type": "execute_result",
          "data": {
            "text/plain": [
              "        ZSO2          ZNO2           ZCO           ZO3     ZPM10  \\\n",
              "0  -0.689794 -1.003260e+00 -2.300000e-07 -2.689200e-01 -3.836360   \n",
              "1  -0.921480 -7.769000e-01 -1.092340e+00  1.992160e+00  0.644520   \n",
              "2  -0.000003 -2.100000e-07 -2.300000e-07 -3.800000e-07  0.000001   \n",
              "3  -0.216350 -3.242000e-01  9.964000e-02 -7.982100e-01 -1.104120   \n",
              "4   3.641037  1.486574e+00  1.069260e-01 -5.802600e-01  1.409550   \n",
              "..       ...           ...           ...           ...       ...   \n",
              "71 -0.000003 -2.100000e-07 -2.300000e-07 -3.800000e-07  0.000001   \n",
              "72 -0.216350 -3.242000e-01  1.170760e+00  1.319100e-01 -0.448380   \n",
              "73 -0.921480 -9.785000e-02 -3.084100e-01  1.319100e-01  0.644520   \n",
              "74 -0.921480  1.285000e-01 -1.043800e-01 -2.311000e-02 -0.120510   \n",
              "75  1.193910 -3.242000e-01 -5.634400e-01  5.969800e-01 -0.339090   \n",
              "\n",
              "          ZPM2.5  Zจำนวนโรงงาน  Zปริมาณกากของเสีย  Zจำนวนครัวเรือน  Zอุณหภูมิ  \\\n",
              "0  -1.732160e+00      -0.54747           -0.53700         -0.58704    0.27183   \n",
              "1  -8.953200e-01       0.06925            1.20726          0.14027    0.50796   \n",
              "2  -9.300000e-18      -0.03600            2.06492         -0.03049   -0.31850   \n",
              "3  -1.352970e+00      -0.37718           -0.31658         -0.20052    0.46861   \n",
              "4   2.079380e+00       0.86832           -0.19768          1.56115   -0.27915   \n",
              "..           ...           ...                ...              ...        ...   \n",
              "71 -9.300000e-18      -0.68621            0.53287         -0.93612   -0.94819   \n",
              "72  1.997000e-02       0.71752           -0.52966          1.00963   -0.16108   \n",
              "73  9.352600e-01      -0.62369           -0.53718         -0.70350   -0.00366   \n",
              "74 -2.088500e-01      -0.71092           -0.53716         -0.91592    1.72799   \n",
              "75  1.997000e-02       0.71217           -0.02996          1.43926   -0.08237   \n",
              "\n",
              "    ...   Zฤดูฝน  Zฤดูหนาว  Zปริมาณการใช้ไฟฟ้าครัว  Zปริมาณการใช้ไฟฟ้ากิจก  \\\n",
              "0   ... -0.32670   0.82196               -0.375950                -0.39827   \n",
              "1   ...  0.27245   0.41622                0.358150                 0.00268   \n",
              "2   ...  0.18686  -0.53051               -0.285040                -0.41086   \n",
              "3   ...  0.35805   0.21335               -0.253000                -0.31451   \n",
              "4   ...  0.18686  -0.46289                1.222110                 0.10635   \n",
              "..  ...      ...       ...                     ...                     ...   \n",
              "71  ... -0.58348  -1.00388               -0.914140                -0.55782   \n",
              "72  ...  0.35805  -0.46289                1.009702                -0.03831   \n",
              "73  ...  0.87161   0.41622               -0.590860                -0.51891   \n",
              "74  ...  0.95720   0.88959               -0.752360                -0.55390   \n",
              "75  ...  0.10127  -0.12477                0.717820                -0.20348   \n",
              "\n",
              "    Zปริมาณน้ำมันที่ใช้กับ  Zจำนวนรถตามกฎหมายรถยนต  Zจำนวนรถตามกฎหมายขนส่ง  \\\n",
              "0                 -0.42795                -0.45687                -0.63355   \n",
              "1                  0.00492                 0.02733                 0.35773   \n",
              "2                 -0.50246                -0.30556                -0.16129   \n",
              "3                 -0.46861                -0.10306                 0.33205   \n",
              "4                  1.06988                 1.66846                 1.18920   \n",
              "..                     ...                     ...                     ...   \n",
              "71                -0.74735                -0.88052                -0.92909   \n",
              "72                 0.89332                 1.06951                 0.64571   \n",
              "73                -0.65522                -0.42084                -0.70187   \n",
              "74                -0.76287                -0.71237                -0.63879   \n",
              "75                 0.05125                 1.26793                 0.51144   \n",
              "\n",
              "    Zปริมาณขยะมูลฝอยที่เกิ  Zปริมาณขยะมูลฝอยตกค้าง  Zปริมาณพื้นที่สีเขียว  \n",
              "0                 -0.44063                -0.30986               -0.42924  \n",
              "1                 -0.16803                -0.14528                0.44250  \n",
              "2                 -0.03678                -0.20772               -0.37602  \n",
              "3                 -0.40866                -0.43292               -0.42829  \n",
              "4                  0.99473                 1.49159                1.93157  \n",
              "..                     ...                     ...                    ...  \n",
              "71                -0.66275                -0.14198               -0.31619  \n",
              "72                 1.02839                -0.49217                0.66333  \n",
              "73                -0.56179                -0.49217               -0.37105  \n",
              "74                -0.86468                -0.49400               -0.43133  \n",
              "75                 1.50965                -0.47150               -0.42261  \n",
              "\n",
              "[76 rows x 21 columns]"
            ],
            "text/html": [
              "\n",
              "  <div id=\"df-8dac0d24-7ad9-4a98-8f7f-fd70d081b1c2\" class=\"colab-df-container\">\n",
              "    <div>\n",
              "<style scoped>\n",
              "    .dataframe tbody tr th:only-of-type {\n",
              "        vertical-align: middle;\n",
              "    }\n",
              "\n",
              "    .dataframe tbody tr th {\n",
              "        vertical-align: top;\n",
              "    }\n",
              "\n",
              "    .dataframe thead th {\n",
              "        text-align: right;\n",
              "    }\n",
              "</style>\n",
              "<table border=\"1\" class=\"dataframe\">\n",
              "  <thead>\n",
              "    <tr style=\"text-align: right;\">\n",
              "      <th></th>\n",
              "      <th>ZSO2</th>\n",
              "      <th>ZNO2</th>\n",
              "      <th>ZCO</th>\n",
              "      <th>ZO3</th>\n",
              "      <th>ZPM10</th>\n",
              "      <th>ZPM2.5</th>\n",
              "      <th>Zจำนวนโรงงาน</th>\n",
              "      <th>Zปริมาณกากของเสีย</th>\n",
              "      <th>Zจำนวนครัวเรือน</th>\n",
              "      <th>Zอุณหภูมิ</th>\n",
              "      <th>...</th>\n",
              "      <th>Zฤดูฝน</th>\n",
              "      <th>Zฤดูหนาว</th>\n",
              "      <th>Zปริมาณการใช้ไฟฟ้าครัว</th>\n",
              "      <th>Zปริมาณการใช้ไฟฟ้ากิจก</th>\n",
              "      <th>Zปริมาณน้ำมันที่ใช้กับ</th>\n",
              "      <th>Zจำนวนรถตามกฎหมายรถยนต</th>\n",
              "      <th>Zจำนวนรถตามกฎหมายขนส่ง</th>\n",
              "      <th>Zปริมาณขยะมูลฝอยที่เกิ</th>\n",
              "      <th>Zปริมาณขยะมูลฝอยตกค้าง</th>\n",
              "      <th>Zปริมาณพื้นที่สีเขียว</th>\n",
              "    </tr>\n",
              "  </thead>\n",
              "  <tbody>\n",
              "    <tr>\n",
              "      <th>0</th>\n",
              "      <td>-0.689794</td>\n",
              "      <td>-1.003260e+00</td>\n",
              "      <td>-2.300000e-07</td>\n",
              "      <td>-2.689200e-01</td>\n",
              "      <td>-3.836360</td>\n",
              "      <td>-1.732160e+00</td>\n",
              "      <td>-0.54747</td>\n",
              "      <td>-0.53700</td>\n",
              "      <td>-0.58704</td>\n",
              "      <td>0.27183</td>\n",
              "      <td>...</td>\n",
              "      <td>-0.32670</td>\n",
              "      <td>0.82196</td>\n",
              "      <td>-0.375950</td>\n",
              "      <td>-0.39827</td>\n",
              "      <td>-0.42795</td>\n",
              "      <td>-0.45687</td>\n",
              "      <td>-0.63355</td>\n",
              "      <td>-0.44063</td>\n",
              "      <td>-0.30986</td>\n",
              "      <td>-0.42924</td>\n",
              "    </tr>\n",
              "    <tr>\n",
              "      <th>1</th>\n",
              "      <td>-0.921480</td>\n",
              "      <td>-7.769000e-01</td>\n",
              "      <td>-1.092340e+00</td>\n",
              "      <td>1.992160e+00</td>\n",
              "      <td>0.644520</td>\n",
              "      <td>-8.953200e-01</td>\n",
              "      <td>0.06925</td>\n",
              "      <td>1.20726</td>\n",
              "      <td>0.14027</td>\n",
              "      <td>0.50796</td>\n",
              "      <td>...</td>\n",
              "      <td>0.27245</td>\n",
              "      <td>0.41622</td>\n",
              "      <td>0.358150</td>\n",
              "      <td>0.00268</td>\n",
              "      <td>0.00492</td>\n",
              "      <td>0.02733</td>\n",
              "      <td>0.35773</td>\n",
              "      <td>-0.16803</td>\n",
              "      <td>-0.14528</td>\n",
              "      <td>0.44250</td>\n",
              "    </tr>\n",
              "    <tr>\n",
              "      <th>2</th>\n",
              "      <td>-0.000003</td>\n",
              "      <td>-2.100000e-07</td>\n",
              "      <td>-2.300000e-07</td>\n",
              "      <td>-3.800000e-07</td>\n",
              "      <td>0.000001</td>\n",
              "      <td>-9.300000e-18</td>\n",
              "      <td>-0.03600</td>\n",
              "      <td>2.06492</td>\n",
              "      <td>-0.03049</td>\n",
              "      <td>-0.31850</td>\n",
              "      <td>...</td>\n",
              "      <td>0.18686</td>\n",
              "      <td>-0.53051</td>\n",
              "      <td>-0.285040</td>\n",
              "      <td>-0.41086</td>\n",
              "      <td>-0.50246</td>\n",
              "      <td>-0.30556</td>\n",
              "      <td>-0.16129</td>\n",
              "      <td>-0.03678</td>\n",
              "      <td>-0.20772</td>\n",
              "      <td>-0.37602</td>\n",
              "    </tr>\n",
              "    <tr>\n",
              "      <th>3</th>\n",
              "      <td>-0.216350</td>\n",
              "      <td>-3.242000e-01</td>\n",
              "      <td>9.964000e-02</td>\n",
              "      <td>-7.982100e-01</td>\n",
              "      <td>-1.104120</td>\n",
              "      <td>-1.352970e+00</td>\n",
              "      <td>-0.37718</td>\n",
              "      <td>-0.31658</td>\n",
              "      <td>-0.20052</td>\n",
              "      <td>0.46861</td>\n",
              "      <td>...</td>\n",
              "      <td>0.35805</td>\n",
              "      <td>0.21335</td>\n",
              "      <td>-0.253000</td>\n",
              "      <td>-0.31451</td>\n",
              "      <td>-0.46861</td>\n",
              "      <td>-0.10306</td>\n",
              "      <td>0.33205</td>\n",
              "      <td>-0.40866</td>\n",
              "      <td>-0.43292</td>\n",
              "      <td>-0.42829</td>\n",
              "    </tr>\n",
              "    <tr>\n",
              "      <th>4</th>\n",
              "      <td>3.641037</td>\n",
              "      <td>1.486574e+00</td>\n",
              "      <td>1.069260e-01</td>\n",
              "      <td>-5.802600e-01</td>\n",
              "      <td>1.409550</td>\n",
              "      <td>2.079380e+00</td>\n",
              "      <td>0.86832</td>\n",
              "      <td>-0.19768</td>\n",
              "      <td>1.56115</td>\n",
              "      <td>-0.27915</td>\n",
              "      <td>...</td>\n",
              "      <td>0.18686</td>\n",
              "      <td>-0.46289</td>\n",
              "      <td>1.222110</td>\n",
              "      <td>0.10635</td>\n",
              "      <td>1.06988</td>\n",
              "      <td>1.66846</td>\n",
              "      <td>1.18920</td>\n",
              "      <td>0.99473</td>\n",
              "      <td>1.49159</td>\n",
              "      <td>1.93157</td>\n",
              "    </tr>\n",
              "    <tr>\n",
              "      <th>...</th>\n",
              "      <td>...</td>\n",
              "      <td>...</td>\n",
              "      <td>...</td>\n",
              "      <td>...</td>\n",
              "      <td>...</td>\n",
              "      <td>...</td>\n",
              "      <td>...</td>\n",
              "      <td>...</td>\n",
              "      <td>...</td>\n",
              "      <td>...</td>\n",
              "      <td>...</td>\n",
              "      <td>...</td>\n",
              "      <td>...</td>\n",
              "      <td>...</td>\n",
              "      <td>...</td>\n",
              "      <td>...</td>\n",
              "      <td>...</td>\n",
              "      <td>...</td>\n",
              "      <td>...</td>\n",
              "      <td>...</td>\n",
              "      <td>...</td>\n",
              "    </tr>\n",
              "    <tr>\n",
              "      <th>71</th>\n",
              "      <td>-0.000003</td>\n",
              "      <td>-2.100000e-07</td>\n",
              "      <td>-2.300000e-07</td>\n",
              "      <td>-3.800000e-07</td>\n",
              "      <td>0.000001</td>\n",
              "      <td>-9.300000e-18</td>\n",
              "      <td>-0.68621</td>\n",
              "      <td>0.53287</td>\n",
              "      <td>-0.93612</td>\n",
              "      <td>-0.94819</td>\n",
              "      <td>...</td>\n",
              "      <td>-0.58348</td>\n",
              "      <td>-1.00388</td>\n",
              "      <td>-0.914140</td>\n",
              "      <td>-0.55782</td>\n",
              "      <td>-0.74735</td>\n",
              "      <td>-0.88052</td>\n",
              "      <td>-0.92909</td>\n",
              "      <td>-0.66275</td>\n",
              "      <td>-0.14198</td>\n",
              "      <td>-0.31619</td>\n",
              "    </tr>\n",
              "    <tr>\n",
              "      <th>72</th>\n",
              "      <td>-0.216350</td>\n",
              "      <td>-3.242000e-01</td>\n",
              "      <td>1.170760e+00</td>\n",
              "      <td>1.319100e-01</td>\n",
              "      <td>-0.448380</td>\n",
              "      <td>1.997000e-02</td>\n",
              "      <td>0.71752</td>\n",
              "      <td>-0.52966</td>\n",
              "      <td>1.00963</td>\n",
              "      <td>-0.16108</td>\n",
              "      <td>...</td>\n",
              "      <td>0.35805</td>\n",
              "      <td>-0.46289</td>\n",
              "      <td>1.009702</td>\n",
              "      <td>-0.03831</td>\n",
              "      <td>0.89332</td>\n",
              "      <td>1.06951</td>\n",
              "      <td>0.64571</td>\n",
              "      <td>1.02839</td>\n",
              "      <td>-0.49217</td>\n",
              "      <td>0.66333</td>\n",
              "    </tr>\n",
              "    <tr>\n",
              "      <th>73</th>\n",
              "      <td>-0.921480</td>\n",
              "      <td>-9.785000e-02</td>\n",
              "      <td>-3.084100e-01</td>\n",
              "      <td>1.319100e-01</td>\n",
              "      <td>0.644520</td>\n",
              "      <td>9.352600e-01</td>\n",
              "      <td>-0.62369</td>\n",
              "      <td>-0.53718</td>\n",
              "      <td>-0.70350</td>\n",
              "      <td>-0.00366</td>\n",
              "      <td>...</td>\n",
              "      <td>0.87161</td>\n",
              "      <td>0.41622</td>\n",
              "      <td>-0.590860</td>\n",
              "      <td>-0.51891</td>\n",
              "      <td>-0.65522</td>\n",
              "      <td>-0.42084</td>\n",
              "      <td>-0.70187</td>\n",
              "      <td>-0.56179</td>\n",
              "      <td>-0.49217</td>\n",
              "      <td>-0.37105</td>\n",
              "    </tr>\n",
              "    <tr>\n",
              "      <th>74</th>\n",
              "      <td>-0.921480</td>\n",
              "      <td>1.285000e-01</td>\n",
              "      <td>-1.043800e-01</td>\n",
              "      <td>-2.311000e-02</td>\n",
              "      <td>-0.120510</td>\n",
              "      <td>-2.088500e-01</td>\n",
              "      <td>-0.71092</td>\n",
              "      <td>-0.53716</td>\n",
              "      <td>-0.91592</td>\n",
              "      <td>1.72799</td>\n",
              "      <td>...</td>\n",
              "      <td>0.95720</td>\n",
              "      <td>0.88959</td>\n",
              "      <td>-0.752360</td>\n",
              "      <td>-0.55390</td>\n",
              "      <td>-0.76287</td>\n",
              "      <td>-0.71237</td>\n",
              "      <td>-0.63879</td>\n",
              "      <td>-0.86468</td>\n",
              "      <td>-0.49400</td>\n",
              "      <td>-0.43133</td>\n",
              "    </tr>\n",
              "    <tr>\n",
              "      <th>75</th>\n",
              "      <td>1.193910</td>\n",
              "      <td>-3.242000e-01</td>\n",
              "      <td>-5.634400e-01</td>\n",
              "      <td>5.969800e-01</td>\n",
              "      <td>-0.339090</td>\n",
              "      <td>1.997000e-02</td>\n",
              "      <td>0.71217</td>\n",
              "      <td>-0.02996</td>\n",
              "      <td>1.43926</td>\n",
              "      <td>-0.08237</td>\n",
              "      <td>...</td>\n",
              "      <td>0.10127</td>\n",
              "      <td>-0.12477</td>\n",
              "      <td>0.717820</td>\n",
              "      <td>-0.20348</td>\n",
              "      <td>0.05125</td>\n",
              "      <td>1.26793</td>\n",
              "      <td>0.51144</td>\n",
              "      <td>1.50965</td>\n",
              "      <td>-0.47150</td>\n",
              "      <td>-0.42261</td>\n",
              "    </tr>\n",
              "  </tbody>\n",
              "</table>\n",
              "<p>76 rows × 21 columns</p>\n",
              "</div>\n",
              "    <div class=\"colab-df-buttons\">\n",
              "\n",
              "  <div class=\"colab-df-container\">\n",
              "    <button class=\"colab-df-convert\" onclick=\"convertToInteractive('df-8dac0d24-7ad9-4a98-8f7f-fd70d081b1c2')\"\n",
              "            title=\"Convert this dataframe to an interactive table.\"\n",
              "            style=\"display:none;\">\n",
              "\n",
              "  <svg xmlns=\"http://www.w3.org/2000/svg\" height=\"24px\" viewBox=\"0 -960 960 960\">\n",
              "    <path d=\"M120-120v-720h720v720H120Zm60-500h600v-160H180v160Zm220 220h160v-160H400v160Zm0 220h160v-160H400v160ZM180-400h160v-160H180v160Zm440 0h160v-160H620v160ZM180-180h160v-160H180v160Zm440 0h160v-160H620v160Z\"/>\n",
              "  </svg>\n",
              "    </button>\n",
              "\n",
              "  <style>\n",
              "    .colab-df-container {\n",
              "      display:flex;\n",
              "      gap: 12px;\n",
              "    }\n",
              "\n",
              "    .colab-df-convert {\n",
              "      background-color: #E8F0FE;\n",
              "      border: none;\n",
              "      border-radius: 50%;\n",
              "      cursor: pointer;\n",
              "      display: none;\n",
              "      fill: #1967D2;\n",
              "      height: 32px;\n",
              "      padding: 0 0 0 0;\n",
              "      width: 32px;\n",
              "    }\n",
              "\n",
              "    .colab-df-convert:hover {\n",
              "      background-color: #E2EBFA;\n",
              "      box-shadow: 0px 1px 2px rgba(60, 64, 67, 0.3), 0px 1px 3px 1px rgba(60, 64, 67, 0.15);\n",
              "      fill: #174EA6;\n",
              "    }\n",
              "\n",
              "    .colab-df-buttons div {\n",
              "      margin-bottom: 4px;\n",
              "    }\n",
              "\n",
              "    [theme=dark] .colab-df-convert {\n",
              "      background-color: #3B4455;\n",
              "      fill: #D2E3FC;\n",
              "    }\n",
              "\n",
              "    [theme=dark] .colab-df-convert:hover {\n",
              "      background-color: #434B5C;\n",
              "      box-shadow: 0px 1px 3px 1px rgba(0, 0, 0, 0.15);\n",
              "      filter: drop-shadow(0px 1px 2px rgba(0, 0, 0, 0.3));\n",
              "      fill: #FFFFFF;\n",
              "    }\n",
              "  </style>\n",
              "\n",
              "    <script>\n",
              "      const buttonEl =\n",
              "        document.querySelector('#df-8dac0d24-7ad9-4a98-8f7f-fd70d081b1c2 button.colab-df-convert');\n",
              "      buttonEl.style.display =\n",
              "        google.colab.kernel.accessAllowed ? 'block' : 'none';\n",
              "\n",
              "      async function convertToInteractive(key) {\n",
              "        const element = document.querySelector('#df-8dac0d24-7ad9-4a98-8f7f-fd70d081b1c2');\n",
              "        const dataTable =\n",
              "          await google.colab.kernel.invokeFunction('convertToInteractive',\n",
              "                                                    [key], {});\n",
              "        if (!dataTable) return;\n",
              "\n",
              "        const docLinkHtml = 'Like what you see? Visit the ' +\n",
              "          '<a target=\"_blank\" href=https://colab.research.google.com/notebooks/data_table.ipynb>data table notebook</a>'\n",
              "          + ' to learn more about interactive tables.';\n",
              "        element.innerHTML = '';\n",
              "        dataTable['output_type'] = 'display_data';\n",
              "        await google.colab.output.renderOutput(dataTable, element);\n",
              "        const docLink = document.createElement('div');\n",
              "        docLink.innerHTML = docLinkHtml;\n",
              "        element.appendChild(docLink);\n",
              "      }\n",
              "    </script>\n",
              "  </div>\n",
              "\n",
              "\n",
              "<div id=\"df-6433166b-da68-4c9d-8140-12c863a5ccbf\">\n",
              "  <button class=\"colab-df-quickchart\" onclick=\"quickchart('df-6433166b-da68-4c9d-8140-12c863a5ccbf')\"\n",
              "            title=\"Suggest charts\"\n",
              "            style=\"display:none;\">\n",
              "\n",
              "<svg xmlns=\"http://www.w3.org/2000/svg\" height=\"24px\"viewBox=\"0 0 24 24\"\n",
              "     width=\"24px\">\n",
              "    <g>\n",
              "        <path d=\"M19 3H5c-1.1 0-2 .9-2 2v14c0 1.1.9 2 2 2h14c1.1 0 2-.9 2-2V5c0-1.1-.9-2-2-2zM9 17H7v-7h2v7zm4 0h-2V7h2v10zm4 0h-2v-4h2v4z\"/>\n",
              "    </g>\n",
              "</svg>\n",
              "  </button>\n",
              "\n",
              "<style>\n",
              "  .colab-df-quickchart {\n",
              "      --bg-color: #E8F0FE;\n",
              "      --fill-color: #1967D2;\n",
              "      --hover-bg-color: #E2EBFA;\n",
              "      --hover-fill-color: #174EA6;\n",
              "      --disabled-fill-color: #AAA;\n",
              "      --disabled-bg-color: #DDD;\n",
              "  }\n",
              "\n",
              "  [theme=dark] .colab-df-quickchart {\n",
              "      --bg-color: #3B4455;\n",
              "      --fill-color: #D2E3FC;\n",
              "      --hover-bg-color: #434B5C;\n",
              "      --hover-fill-color: #FFFFFF;\n",
              "      --disabled-bg-color: #3B4455;\n",
              "      --disabled-fill-color: #666;\n",
              "  }\n",
              "\n",
              "  .colab-df-quickchart {\n",
              "    background-color: var(--bg-color);\n",
              "    border: none;\n",
              "    border-radius: 50%;\n",
              "    cursor: pointer;\n",
              "    display: none;\n",
              "    fill: var(--fill-color);\n",
              "    height: 32px;\n",
              "    padding: 0;\n",
              "    width: 32px;\n",
              "  }\n",
              "\n",
              "  .colab-df-quickchart:hover {\n",
              "    background-color: var(--hover-bg-color);\n",
              "    box-shadow: 0 1px 2px rgba(60, 64, 67, 0.3), 0 1px 3px 1px rgba(60, 64, 67, 0.15);\n",
              "    fill: var(--button-hover-fill-color);\n",
              "  }\n",
              "\n",
              "  .colab-df-quickchart-complete:disabled,\n",
              "  .colab-df-quickchart-complete:disabled:hover {\n",
              "    background-color: var(--disabled-bg-color);\n",
              "    fill: var(--disabled-fill-color);\n",
              "    box-shadow: none;\n",
              "  }\n",
              "\n",
              "  .colab-df-spinner {\n",
              "    border: 2px solid var(--fill-color);\n",
              "    border-color: transparent;\n",
              "    border-bottom-color: var(--fill-color);\n",
              "    animation:\n",
              "      spin 1s steps(1) infinite;\n",
              "  }\n",
              "\n",
              "  @keyframes spin {\n",
              "    0% {\n",
              "      border-color: transparent;\n",
              "      border-bottom-color: var(--fill-color);\n",
              "      border-left-color: var(--fill-color);\n",
              "    }\n",
              "    20% {\n",
              "      border-color: transparent;\n",
              "      border-left-color: var(--fill-color);\n",
              "      border-top-color: var(--fill-color);\n",
              "    }\n",
              "    30% {\n",
              "      border-color: transparent;\n",
              "      border-left-color: var(--fill-color);\n",
              "      border-top-color: var(--fill-color);\n",
              "      border-right-color: var(--fill-color);\n",
              "    }\n",
              "    40% {\n",
              "      border-color: transparent;\n",
              "      border-right-color: var(--fill-color);\n",
              "      border-top-color: var(--fill-color);\n",
              "    }\n",
              "    60% {\n",
              "      border-color: transparent;\n",
              "      border-right-color: var(--fill-color);\n",
              "    }\n",
              "    80% {\n",
              "      border-color: transparent;\n",
              "      border-right-color: var(--fill-color);\n",
              "      border-bottom-color: var(--fill-color);\n",
              "    }\n",
              "    90% {\n",
              "      border-color: transparent;\n",
              "      border-bottom-color: var(--fill-color);\n",
              "    }\n",
              "  }\n",
              "</style>\n",
              "\n",
              "  <script>\n",
              "    async function quickchart(key) {\n",
              "      const quickchartButtonEl =\n",
              "        document.querySelector('#' + key + ' button');\n",
              "      quickchartButtonEl.disabled = true;  // To prevent multiple clicks.\n",
              "      quickchartButtonEl.classList.add('colab-df-spinner');\n",
              "      try {\n",
              "        const charts = await google.colab.kernel.invokeFunction(\n",
              "            'suggestCharts', [key], {});\n",
              "      } catch (error) {\n",
              "        console.error('Error during call to suggestCharts:', error);\n",
              "      }\n",
              "      quickchartButtonEl.classList.remove('colab-df-spinner');\n",
              "      quickchartButtonEl.classList.add('colab-df-quickchart-complete');\n",
              "    }\n",
              "    (() => {\n",
              "      let quickchartButtonEl =\n",
              "        document.querySelector('#df-6433166b-da68-4c9d-8140-12c863a5ccbf button');\n",
              "      quickchartButtonEl.style.display =\n",
              "        google.colab.kernel.accessAllowed ? 'block' : 'none';\n",
              "    })();\n",
              "  </script>\n",
              "</div>\n",
              "\n",
              "    </div>\n",
              "  </div>\n"
            ],
            "application/vnd.google.colaboratory.intrinsic+json": {
              "type": "dataframe",
              "variable_name": "data_numeric"
            }
          },
          "metadata": {},
          "execution_count": 15
        }
      ]
    },
    {
      "cell_type": "code",
      "source": [
        "# ตรวจสอบชื่อคอลัมน์\n",
        "print(Air_pollution.columns)"
      ],
      "metadata": {
        "colab": {
          "base_uri": "https://localhost:8080/"
        },
        "id": "B9aNNtJQKVBR",
        "outputId": "3911da3a-1d4d-4c16-83d9-4d67f3f9903a"
      },
      "execution_count": 9,
      "outputs": [
        {
          "output_type": "stream",
          "name": "stdout",
          "text": [
            "Index(['จังหวัด', 'ZSO2', 'ZNO2', 'ZCO', 'ZO3', 'ZPM10', 'ZPM2.5',\n",
            "       'Zจำนวนโรงงาน', 'Zปริมาณกากของเสีย', 'Zจำนวนครัวเรือน', 'Zอุณหภูมิ',\n",
            "       'Zฤดูร้อน', 'Zฤดูฝน', 'Zฤดูหนาว', 'Zปริมาณการใช้ไฟฟ้าครัว',\n",
            "       'Zปริมาณการใช้ไฟฟ้ากิจก', 'Zปริมาณน้ำมันที่ใช้กับ',\n",
            "       'Zจำนวนรถตามกฎหมายรถยนต', 'Zจำนวนรถตามกฎหมายขนส่ง',\n",
            "       'Zปริมาณขยะมูลฝอยที่เกิ', 'Zปริมาณขยะมูลฝอยตกค้าง',\n",
            "       'Zปริมาณพื้นที่สีเขียว'],\n",
            "      dtype='object')\n"
          ]
        }
      ]
    },
    {
      "cell_type": "code",
      "source": [
        "X = Air_pollution[['ZSO2', 'ZNO2', 'ZCO', 'ZO3', 'ZPM10', 'ZPM2.5',\n",
        "       'Zจำนวนโรงงาน', 'Zปริมาณกากของเสีย', 'Zจำนวนครัวเรือน',\n",
        "       'Zฤดูร้อน', 'Zฤดูฝน', 'Zฤดูหนาว', 'Zปริมาณการใช้ไฟฟ้าครัว',\n",
        "       'Zปริมาณการใช้ไฟฟ้ากิจก', 'Zปริมาณน้ำมันที่ใช้กับ',\n",
        "       'Zจำนวนรถตามกฎหมายรถยนต', 'Zจำนวนรถตามกฎหมายขนส่ง',\n",
        "       'Zปริมาณขยะมูลฝอยที่เกิ', 'Zปริมาณขยะมูลฝอยตกค้าง',\n",
        "       'Zปริมาณพื้นที่สีเขียว']].values"
      ],
      "metadata": {
        "id": "rcx1M31qLOpY"
      },
      "execution_count": 16,
      "outputs": []
    },
    {
      "cell_type": "code",
      "source": [
        "# การจัดกลุ่มแบบลำดับชั้น (Hierarchical Clustering)\n",
        "# สร้าง linkage matrix\n",
        "linkage_matrix = linkage(X, method='single')  # ใช้ Single Linkage\n"
      ],
      "metadata": {
        "id": "0bSH6D6KLb95"
      },
      "execution_count": 18,
      "outputs": []
    },
    {
      "cell_type": "code",
      "source": [
        "# กำหนดจำนวนกลุ่ม (สมมุติ 2 กลุ่ม)\n",
        "n_clusters = 2\n",
        "clusters = fcluster(linkage_matrix, n_clusters, criterion='maxclust')"
      ],
      "metadata": {
        "id": "EHUMvRhqLoCB"
      },
      "execution_count": 19,
      "outputs": []
    },
    {
      "cell_type": "code",
      "source": [
        "# คำนวณค่า Silhouette\n",
        "silhouette_vals = silhouette_samples(X, clusters)\n",
        "silhouette_avg = silhouette_score(X, clusters)"
      ],
      "metadata": {
        "id": "K15_XycALv7g"
      },
      "execution_count": 20,
      "outputs": []
    },
    {
      "cell_type": "code",
      "source": [
        "print(silhouette_avg)"
      ],
      "metadata": {
        "colab": {
          "base_uri": "https://localhost:8080/"
        },
        "id": "NEwUKRd1RPMm",
        "outputId": "abbc332c-d45b-4ee9-ceef-e6b8c3048dbb"
      },
      "execution_count": 21,
      "outputs": [
        {
          "output_type": "stream",
          "name": "stdout",
          "text": [
            "0.5134250651669474\n"
          ]
        }
      ]
    },
    {
      "cell_type": "code",
      "source": [
        "# สร้างกราฟ Silhouette\n",
        "plt.figure(figsize=(8, 6))\n",
        "y_lower = 10\n",
        "for i in range(1, n_clusters + 1):\n",
        "    cluster_silhouette_vals = silhouette_vals[clusters == i]\n",
        "    cluster_silhouette_vals.sort()\n",
        "    y_upper = y_lower + len(cluster_silhouette_vals)\n",
        "    plt.fill_betweenx(np.arange(y_lower, y_upper), 0, cluster_silhouette_vals, alpha=0.7)\n",
        "    plt.text(-0.05, y_lower + 0.5 * len(cluster_silhouette_vals), f\"Cluster {i}\")\n",
        "    y_lower = y_upper + 10\n",
        "\n",
        "# เส้นค่าเฉลี่ย Silhouette\n",
        "plt.axvline(silhouette_avg, color=\"red\", linestyle=\"--\", label=f\"Average Silhouette: {silhouette_avg:.2f}\")\n",
        "plt.title(\"Silhouette Plot for Hierarchical Clustering\")\n",
        "plt.xlabel(\"Silhouette Coefficient\")\n",
        "plt.ylabel(\"Cluster\")\n",
        "plt.legend()\n",
        "plt.tight_layout()\n",
        "plt.show()"
      ],
      "metadata": {
        "colab": {
          "base_uri": "https://localhost:8080/",
          "height": 607
        },
        "id": "GyUhxFMfL3bZ",
        "outputId": "6c4746b4-fa9d-4eb7-df89-8a86d87e5a0f"
      },
      "execution_count": 22,
      "outputs": [
        {
          "output_type": "display_data",
          "data": {
            "text/plain": [
              "<Figure size 800x600 with 1 Axes>"
            ],
            "image/png": "[encoded data removed]"
          },
          "metadata": {}
        }
      ]
    },
    {
      "cell_type": "markdown",
      "source": [
        "ตรวจสอบว่าทำไมแท่ง Cluster1 ถึงไม่ขึ้น หากเป็น 0 แสดงว่าไม่มีค่าข้อมูลอยู่เลย"
      ],
      "metadata": {
        "id": "E_qDjG9dj0AX"
      }
    },
    {
      "cell_type": "code",
      "source": [
        "print(np.sum(clusters == 1))"
      ],
      "metadata": {
        "colab": {
          "base_uri": "https://localhost:8080/"
        },
        "id": "LcbAzIkXj5x_",
        "outputId": "075882c5-279d-46f4-efc3-24b443c61b84"
      },
      "execution_count": 23,
      "outputs": [
        {
          "output_type": "stream",
          "name": "stdout",
          "text": [
            "75\n"
          ]
        }
      ]
    },
    {
      "cell_type": "markdown",
      "source": [
        "Cluster 1 มีค่า silhouette ใกล้ 0 หรือค่าติดลบ ทำให้กราฟแท่งเล็กมากจนมองไม่เห็นหรือไม่ ต้องทำการตรวจสอบโดยการ"
      ],
      "metadata": {
        "id": "_ceZksUOkbgl"
      }
    },
    {
      "cell_type": "code",
      "source": [
        "print(silhouette_vals[clusters == 1])"
      ],
      "metadata": {
        "colab": {
          "base_uri": "https://localhost:8080/"
        },
        "id": "L1IUMR0ikAsF",
        "outputId": "74291dfe-4124-4268-f04b-4cbe41d9e0f9"
      },
      "execution_count": 26,
      "outputs": [
        {
          "output_type": "stream",
          "name": "stdout",
          "text": [
            "[0.45707156 0.5580784  0.54667841 0.60509342 0.38812731 0.54074911\n",
            " 0.53394909 0.29004337 0.62483584 0.63203101 0.62343026 0.40632601\n",
            " 0.00650706 0.54156518 0.51334527 0.41332351 0.55667426 0.48937611\n",
            " 0.33216504 0.45851803 0.57087378 0.46012713 0.5808341  0.40429168\n",
            " 0.46629189 0.34182472 0.47909385 0.6253573  0.59857356 0.62335328\n",
            " 0.5459799  0.50544529 0.57646094 0.61691648 0.52289551 0.58968492\n",
            " 0.65467917 0.59617985 0.57732669 0.58034918 0.62550573 0.49789682\n",
            " 0.45439872 0.56621443 0.55249864 0.60228269 0.55642221 0.42075775\n",
            " 0.41285983 0.59473728 0.53542754 0.56867071 0.38591574 0.63445077\n",
            " 0.4930339  0.52783114 0.53717166 0.34312769 0.58217513 0.33671703\n",
            " 0.62713888 0.52199861 0.57338523 0.59409338 0.6295998  0.52601483\n",
            " 0.60938585 0.51703257 0.40746471 0.6068811  0.4524187  0.5390703\n",
            " 0.60784278 0.61055931 0.53489603]\n"
          ]
        }
      ]
    },
    {
      "cell_type": "markdown",
      "source": [
        "ทำ Dendrogram"
      ],
      "metadata": {
        "id": "JL5s9kt_llJv"
      }
    },
    {
      "cell_type": "code",
      "source": [
        "import matplotlib.pyplot as plt\n",
        "import scipy.cluster.hierarchy as sch\n",
        "\n",
        "# สร้าง linkage matrix สำหรับ hierarchical clustering\n",
        "linked = sch.linkage(X, method='single')  # 'single linkage'\n",
        "\n",
        "# สร้างและ plot Dendrogram\n",
        "plt.figure(figsize=(12, 6))\n",
        "sch.dendrogram(linked, labels='จังหวัด', leaf_rotation=90, leaf_font_size=10)\n",
        "plt.title(\"Dendrogram for Hierarchical Clustering\")\n",
        "plt.xlabel(\"จังหวัด\")\n",
        "plt.ylabel(\"Distance\")\n",
        "plt.show()"
      ],
      "metadata": {
        "colab": {
          "base_uri": "https://localhost:8080/",
          "height": 367
        },
        "id": "kq-8kPj2lkeC",
        "outputId": "c6972ea7-94a6-4344-984d-2130de715fa3"
      },
      "execution_count": 30,
      "outputs": [
        {
          "output_type": "error",
          "ename": "ValueError",
          "evalue": "Dimensions of Z and labels must be consistent.",
          "traceback": [
            "\u001b[0;31m---------------------------------------------------------------------------\u001b[0m",
            "\u001b[0;31mValueError\u001b[0m                                Traceback (most recent call last)",
            "\u001b[0;32m<ipython-input-30-97214207a546>\u001b[0m in \u001b[0;36m<cell line: 0>\u001b[0;34m()\u001b[0m\n\u001b[1;32m      7\u001b[0m \u001b[0;31m# สร้างและ plot Dendrogram\u001b[0m\u001b[0;34m\u001b[0m\u001b[0;34m\u001b[0m\u001b[0m\n\u001b[1;32m      8\u001b[0m \u001b[0mplt\u001b[0m\u001b[0;34m.\u001b[0m\u001b[0mfigure\u001b[0m\u001b[0;34m(\u001b[0m\u001b[0mfigsize\u001b[0m\u001b[0;34m=\u001b[0m\u001b[0;34m(\u001b[0m\u001b[0;36m12\u001b[0m\u001b[0;34m,\u001b[0m \u001b[0;36m6\u001b[0m\u001b[0;34m)\u001b[0m\u001b[0;34m)\u001b[0m\u001b[0;34m\u001b[0m\u001b[0;34m\u001b[0m\u001b[0m\n\u001b[0;32m----> 9\u001b[0;31m \u001b[0msch\u001b[0m\u001b[0;34m.\u001b[0m\u001b[0mdendrogram\u001b[0m\u001b[0;34m(\u001b[0m\u001b[0mlinked\u001b[0m\u001b[0;34m,\u001b[0m \u001b[0mlabels\u001b[0m\u001b[0;34m=\u001b[0m\u001b[0;34m'จังหวัด'\u001b[0m\u001b[0;34m,\u001b[0m \u001b[0mleaf_rotation\u001b[0m\u001b[0;34m=\u001b[0m\u001b[0;36m90\u001b[0m\u001b[0;34m,\u001b[0m \u001b[0mleaf_font_size\u001b[0m\u001b[0;34m=\u001b[0m\u001b[0;36m10\u001b[0m\u001b[0;34m)\u001b[0m\u001b[0;34m\u001b[0m\u001b[0;34m\u001b[0m\u001b[0m\n\u001b[0m\u001b[1;32m     10\u001b[0m \u001b[0mplt\u001b[0m\u001b[0;34m.\u001b[0m\u001b[0mtitle\u001b[0m\u001b[0;34m(\u001b[0m\u001b[0;34m\"Dendrogram for Hierarchical Clustering\"\u001b[0m\u001b[0;34m)\u001b[0m\u001b[0;34m\u001b[0m\u001b[0;34m\u001b[0m\u001b[0m\n\u001b[1;32m     11\u001b[0m \u001b[0mplt\u001b[0m\u001b[0;34m.\u001b[0m\u001b[0mxlabel\u001b[0m\u001b[0;34m(\u001b[0m\u001b[0;34m\"จังหวัด\"\u001b[0m\u001b[0;34m)\u001b[0m\u001b[0;34m\u001b[0m\u001b[0;34m\u001b[0m\u001b[0m\n",
            "\u001b[0;32m/usr/local/lib/python3.11/dist-packages/scipy/cluster/hierarchy.py\u001b[0m in \u001b[0;36mdendrogram\u001b[0;34m(Z, p, truncate_mode, color_threshold, get_leaves, orientation, labels, count_sort, distance_sort, show_leaf_counts, no_plot, no_labels, leaf_font_size, leaf_rotation, leaf_label_func, show_contracted, link_color_func, ax, above_threshold_color)\u001b[0m\n\u001b[1;32m   3282\u001b[0m             \u001b[0mlen_labels\u001b[0m \u001b[0;34m=\u001b[0m \u001b[0mlabels\u001b[0m\u001b[0;34m.\u001b[0m\u001b[0mshape\u001b[0m\u001b[0;34m[\u001b[0m\u001b[0;36m0\u001b[0m\u001b[0;34m]\u001b[0m\u001b[0;34m\u001b[0m\u001b[0;34m\u001b[0m\u001b[0m\n\u001b[1;32m   3283\u001b[0m         \u001b[0;32mif\u001b[0m \u001b[0mZ\u001b[0m\u001b[0;34m.\u001b[0m\u001b[0mshape\u001b[0m\u001b[0;34m[\u001b[0m\u001b[0;36m0\u001b[0m\u001b[0;34m]\u001b[0m \u001b[0;34m+\u001b[0m \u001b[0;36m1\u001b[0m \u001b[0;34m!=\u001b[0m \u001b[0mlen_labels\u001b[0m\u001b[0;34m:\u001b[0m\u001b[0;34m\u001b[0m\u001b[0;34m\u001b[0m\u001b[0m\n\u001b[0;32m-> 3284\u001b[0;31m             \u001b[0;32mraise\u001b[0m \u001b[0mValueError\u001b[0m\u001b[0;34m(\u001b[0m\u001b[0;34m\"Dimensions of Z and labels must be consistent.\"\u001b[0m\u001b[0;34m)\u001b[0m\u001b[0;34m\u001b[0m\u001b[0;34m\u001b[0m\u001b[0m\n\u001b[0m\u001b[1;32m   3285\u001b[0m \u001b[0;34m\u001b[0m\u001b[0m\n\u001b[1;32m   3286\u001b[0m     \u001b[0mis_valid_linkage\u001b[0m\u001b[0;34m(\u001b[0m\u001b[0mZ\u001b[0m\u001b[0;34m,\u001b[0m \u001b[0mthrow\u001b[0m\u001b[0;34m=\u001b[0m\u001b[0;32mTrue\u001b[0m\u001b[0;34m,\u001b[0m \u001b[0mname\u001b[0m\u001b[0;34m=\u001b[0m\u001b[0;34m'Z'\u001b[0m\u001b[0;34m)\u001b[0m\u001b[0;34m\u001b[0m\u001b[0;34m\u001b[0m\u001b[0m\n",
            "\u001b[0;31mValueError\u001b[0m: Dimensions of Z and labels must be consistent."
          ]
        },
        {
          "output_type": "display_data",
          "data": {
            "text/plain": [
              "<Figure size 1200x600 with 0 Axes>"
            ]
          },
          "metadata": {}
        }
      ]
    },
    {
      "cell_type": "code",
      "source": [
        "#ตรวจสอบข้อมูลที่ใช้ทำ Clustering\n",
        "print(f\"จำนวนข้อมูล: {len(data)}\")"
      ],
      "metadata": {
        "colab": {
          "base_uri": "https://localhost:8080/",
          "height": 158
        },
        "id": "8mgrPI91o70e",
        "outputId": "4d5ec4b6-9116-4175-d0e3-bba006c582fe"
      },
      "execution_count": 31,
      "outputs": [
        {
          "output_type": "error",
          "ename": "NameError",
          "evalue": "name 'data' is not defined",
          "traceback": [
            "\u001b[0;31m---------------------------------------------------------------------------\u001b[0m",
            "\u001b[0;31mNameError\u001b[0m                                 Traceback (most recent call last)",
            "\u001b[0;32m<ipython-input-31-157427b48c88>\u001b[0m in \u001b[0;36m<cell line: 0>\u001b[0;34m()\u001b[0m\n\u001b[1;32m      1\u001b[0m \u001b[0;31m#ตรวจสอบข้อมูลที่ใช้ทำ Clustering\u001b[0m\u001b[0;34m\u001b[0m\u001b[0;34m\u001b[0m\u001b[0m\n\u001b[0;32m----> 2\u001b[0;31m \u001b[0mprint\u001b[0m\u001b[0;34m(\u001b[0m\u001b[0;34mf\"จำนวนข้อมูล: {len(data)}\"\u001b[0m\u001b[0;34m)\u001b[0m\u001b[0;34m\u001b[0m\u001b[0;34m\u001b[0m\u001b[0m\n\u001b[0m",
            "\u001b[0;31mNameError\u001b[0m: name 'data' is not defined"
          ]
        }
      ]
    },
    {
      "cell_type": "code",
      "source": [],
      "metadata": {
        "id": "2d7kvbnJpBHq"
      },
      "execution_count": null,
      "outputs": []
    }
  ]
}